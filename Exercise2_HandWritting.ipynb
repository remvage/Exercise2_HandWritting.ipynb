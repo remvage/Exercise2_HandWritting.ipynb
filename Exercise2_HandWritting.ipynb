{
  "nbformat": 4,
  "nbformat_minor": 0,
  "metadata": {
    "coursera": {
      "course_slug": "introduction-tensorflow",
      "graded_item_id": "d6dew",
      "launcher_item_id": "FExZ4"
    },
    "kernelspec": {
      "display_name": "Python 3",
      "language": "python",
      "name": "python3"
    },
    "language_info": {
      "codemirror_mode": {
        "name": "ipython",
        "version": 3
      },
      "file_extension": ".py",
      "mimetype": "text/x-python",
      "name": "python",
      "nbconvert_exporter": "python",
      "pygments_lexer": "ipython3",
      "version": "3.6.8"
    },
    "colab": {
      "name": "Exercise2-HandWritting.ipynb",
      "provenance": []
    }
  },
  "cells": [
    {
      "cell_type": "markdown",
      "metadata": {
        "id": "tOoyQ70H00_s"
      },
      "source": [
        "## Упражнение 2\n",
        "Напишите классификатор MNIST, который обучается до точности 99% или выше и делает это без фиксированного числа эпох - то есть вы должны прекратить обучение, как только достигнете этого уровня точности.\n",
        "\n",
        "1. Этого надо достигнуть менее чем за 10 эпох, поэтому можно установить epoches=10, но не более.\n",
        "2. Когда точность станет 99% или больше, надо распечатать строку «Достигнута точность 99%, поэтому обучение закончено!»\n"
      ]
    },
    {
      "cell_type": "code",
      "metadata": {
        "id": "OmPpq7lZHw-2"
      },
      "source": [
<script src="https://gist.github.com/remvage/4f57194782124a60bbcb38e9531e693e.js"></script>
      ],
      "execution_count": null,
      "outputs": []
    },
    {
      "cell_type": "code",
      "metadata": {
        "id": "9rvXQGAA0ssC"
      },
(x_train, y_train),(x_test, y_test) = mnist.load_data()

max = x_train[0].max()

x_train = x_train/max
x_test = x_test/max

x_train = x_train.reshape(60000, 28, 28, 1)
x_test = x_test.reshape(10000, 28, 28, 1)

model = tf.keras.models.Sequential([
  Conv2D(filters=32, kernel_size=(4,4), input_shape=(28, 28, 1), activation='relu'),
  MaxPool2D(pool_size=(2,2)),
  Flatten(),
  Dense(128, activation='relu'),
  Dense(10, activation='softmax')
])

earlystop = tf.keras.callbacks.EarlyStopping(monitor='loss', patience=0)

model.compile(optimizer='adam',
              loss='sparse_categorical_crossentropy',
              metrics=['accuracy'])

history = model.fit(x_train, y_train, epochs=9, validation_data=(x_test, y_test), batch_size=32, callbacks=[earlystop])
print('Эпох ' + str(history.epoch[-1]) + '. Точность ' + str(history.history['accuracy'][-1]))
      ],
      "execution_count": null,
      "outputs": []
    }
  ]
}
